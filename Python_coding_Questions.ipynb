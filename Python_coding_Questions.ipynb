{
 "cells": [
  {
   "cell_type": "code",
   "execution_count": 3,
   "id": "db081c72-0baa-4751-b845-0a9ca6e7a63d",
   "metadata": {},
   "outputs": [
    {
     "name": "stdout",
     "output_type": "stream",
     "text": [
      "listen and silent are anagram\n"
     ]
    }
   ],
   "source": [
    "# Check anagrams.\n",
    "\n",
    "def is_anagram(s1, s2):\n",
    "    return sorted(s1) == sorted(s2)\n",
    "\n",
    "\n",
    "str1 = 'listen'\n",
    "str2 = 'silent'\n",
    "\n",
    "if is_anagram(str1, str2):\n",
    "    print(f'{str1} and {str2} are anagram')\n",
    "else:\n",
    "    print(f'{str1} and {str2} are not an anagram')"
   ]
  },
  {
   "cell_type": "code",
   "execution_count": 3,
   "id": "945d546f-f1ff-4c10-be1b-1bfc33645b1f",
   "metadata": {},
   "outputs": [
    {
     "name": "stdout",
     "output_type": "stream",
     "text": [
      "Missing Number is 5\n"
     ]
    }
   ],
   "source": [
    "## Find missing number\n",
    "\n",
    "def find_missing_number(num):\n",
    "    n = len(num) + 1\n",
    "\n",
    "    actual_sum = n * (n + 1) // 2\n",
    "\n",
    "    total_sum = sum(num)\n",
    "\n",
    "    return actual_sum - total_sum\n",
    "\n",
    "numbers = [1,2,3,4,6]\n",
    "missing_number = find_missing_number(numbers)\n",
    "print(f'Missing Number is {missing_number}')"
   ]
  },
  {
   "cell_type": "code",
   "execution_count": 47,
   "id": "93ab08dd-cfb4-40bd-8826-808c822fb5f1",
   "metadata": {},
   "outputs": [
    {
     "name": "stdout",
     "output_type": "stream",
     "text": [
      "8208 is a armstrong number.\n"
     ]
    }
   ],
   "source": [
    "# Check Armstrong Number\n",
    "def is_armstrong(number):\n",
    "    num_str = str(number)\n",
    "\n",
    "    digits = []\n",
    "    for digit in num_str:\n",
    "        digits.append(int(digit))\n",
    "    \n",
    "    n = len(digits)\n",
    "    armstrong_sum = 0\n",
    "    for i in digits:\n",
    "        armstrong_sum += i ** n\n",
    "    \n",
    "    return armstrong_sum == number\n",
    "    \n",
    "num = 8208\n",
    "if is_armstrong(num):\n",
    "    print(f'{num} is a armstrong number.')\n",
    "else:\n",
    "    print(f'{num} is not a armstrong number.')"
   ]
  },
  {
   "cell_type": "code",
   "execution_count": null,
   "id": "90f98dac-0c4a-45f9-b2ed-4dfa34fb8bc0",
   "metadata": {},
   "outputs": [],
   "source": [
    "# Sort a List without using build in functions\n",
    "\n"
   ]
  },
  {
   "cell_type": "code",
   "execution_count": null,
   "id": "3e07eb97-6663-4b6c-8294-599cd9483ece",
   "metadata": {},
   "outputs": [],
   "source": [
    "# Count Vowels and Consonants\n",
    "\n"
   ]
  },
  {
   "cell_type": "code",
   "execution_count": null,
   "id": "791e5a46-3f75-4ebf-9dc9-75321b72832f",
   "metadata": {},
   "outputs": [],
   "source": [
    "# Remove Duplicates from a List\n",
    "\n",
    "def remove_duplicates(numbers):\n",
    "    unique_numbers = []  # List to store unique elements\n",
    "    for num in numbers:\n",
    "        if num not in unique_numbers:  # Check if the number is already in the list\n",
    "            unique_numbers.append(num)\n",
    "    return unique_numbers\n",
    "\n",
    "# Example usage\n",
    "numbers = [1, 2, 2, 3, 4, 4, 5]  # Example input\n",
    "result = remove_duplicates(numbers)\n",
    "print(f\"List after removing duplicates: {result}\")\n"
   ]
  },
  {
   "cell_type": "code",
   "execution_count": null,
   "id": "0b920a2f-9896-4e23-a99d-cbf66f93c859",
   "metadata": {},
   "outputs": [],
   "source": []
  },
  {
   "cell_type": "code",
   "execution_count": 15,
   "id": "dff97509-71c1-481c-bac3-4951a49324bf",
   "metadata": {},
   "outputs": [
    {
     "name": "stdout",
     "output_type": "stream",
     "text": [
      "['Hello', 'World', 'From', 'Python']\n",
      "hello world from python\n"
     ]
    }
   ],
   "source": [
    "def lowercase_first_letter_each_word(s):\n",
    "    words = s.split()\n",
    "    print(words)\n",
    "\n",
    "    result = []\n",
    "    for word in words:\n",
    "        modified_word = word[0].lower() + word[1:]\n",
    "        result.append(modified_word)\n",
    "    return ' '.join(result)\n",
    "        \n",
    "    \n",
    "\n",
    "input_string = \"Hello World From Python\"\n",
    "result = lowercase_first_letter_each_word(input_string) \n",
    "print(result)"
   ]
  },
  {
   "cell_type": "code",
   "execution_count": null,
   "id": "9a8bfcbe-05e6-4955-adb0-e50b50d49cb3",
   "metadata": {},
   "outputs": [],
   "source": []
  },
  {
   "cell_type": "code",
   "execution_count": 65,
   "id": "e46ffe31-edbe-41c8-944c-e478ff11c690",
   "metadata": {},
   "outputs": [
    {
     "data": {
      "text/plain": [
       "[3, 4, 5, 1, 2]"
      ]
     },
     "execution_count": 65,
     "metadata": {},
     "output_type": "execute_result"
    }
   ],
   "source": [
    "# left Rotate\n",
    "\n",
    "l = [1,2,3,4,5]\n",
    "d = 2\n",
    "\n",
    "new_l = l[d:] + l[:d]\n",
    "new_l"
   ]
  },
  {
   "cell_type": "code",
   "execution_count": null,
   "id": "153a703d-57f3-4321-8e79-4aa4c8077953",
   "metadata": {},
   "outputs": [],
   "source": []
  }
 ],
 "metadata": {
  "kernelspec": {
   "display_name": "Python 3 (ipykernel)",
   "language": "python",
   "name": "python3"
  },
  "language_info": {
   "codemirror_mode": {
    "name": "ipython",
    "version": 3
   },
   "file_extension": ".py",
   "mimetype": "text/x-python",
   "name": "python",
   "nbconvert_exporter": "python",
   "pygments_lexer": "ipython3",
   "version": "3.12.4"
  }
 },
 "nbformat": 4,
 "nbformat_minor": 5
}
