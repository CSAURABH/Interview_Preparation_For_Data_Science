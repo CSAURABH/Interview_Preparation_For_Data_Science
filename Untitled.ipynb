{
 "cells": [
  {
   "cell_type": "code",
   "execution_count": 39,
   "id": "85d5434e-b046-4d73-8afe-5327f3699a7f",
   "metadata": {},
   "outputs": [],
   "source": [
    "import pandas as pd\n",
    "\n",
    "# Sample DataFrame\n",
    "data = {\n",
    "    'EmployeeID': [101, 102, 103, 104, 105, 106, 107, 108, 109, 110],\n",
    "    'Department': ['Sales', 'HR', 'IT', 'Sales', 'IT', 'HR', 'Sales', 'IT', 'HR', 'Sales'],\n",
    "    'City': ['New York', 'Los Angeles', 'Chicago', 'New York', 'Chicago', 'Los Angeles', 'New York', 'Chicago', 'Los Angeles', 'New York'],\n",
    "    'Salary': [70000, 80000, 90000, 75000, 85000, 82000, 72000, 88000, 81000, 74000],\n",
    "    'JoiningDate': pd.to_datetime(['2020-05-20', '2019-03-15', '2021-07-10', '2020-11-11', '2018-06-23', '2021-09-12', '2019-08-01', '2020-02-14', '2021-01-10', '2020-12-03']),\n",
    "    'PerformanceScore': [85, 78, 92, 88, 90, 79, 82, 95, 77, 83]\n",
    "}\n",
    "\n",
    "df = pd.DataFrame(data)\n"
   ]
  },
  {
   "cell_type": "code",
   "execution_count": 41,
   "id": "976e2acb-df9b-4191-b38d-cbf76d737f11",
   "metadata": {},
   "outputs": [
    {
     "data": {
      "text/html": [
       "<div>\n",
       "<style scoped>\n",
       "    .dataframe tbody tr th:only-of-type {\n",
       "        vertical-align: middle;\n",
       "    }\n",
       "\n",
       "    .dataframe tbody tr th {\n",
       "        vertical-align: top;\n",
       "    }\n",
       "\n",
       "    .dataframe thead th {\n",
       "        text-align: right;\n",
       "    }\n",
       "</style>\n",
       "<table border=\"1\" class=\"dataframe\">\n",
       "  <thead>\n",
       "    <tr style=\"text-align: right;\">\n",
       "      <th></th>\n",
       "      <th>EmployeeID</th>\n",
       "      <th>Department</th>\n",
       "      <th>City</th>\n",
       "      <th>Salary</th>\n",
       "      <th>JoiningDate</th>\n",
       "      <th>PerformanceScore</th>\n",
       "    </tr>\n",
       "  </thead>\n",
       "  <tbody>\n",
       "    <tr>\n",
       "      <th>0</th>\n",
       "      <td>101</td>\n",
       "      <td>Sales</td>\n",
       "      <td>New York</td>\n",
       "      <td>70000</td>\n",
       "      <td>2020-05-20</td>\n",
       "      <td>85</td>\n",
       "    </tr>\n",
       "    <tr>\n",
       "      <th>1</th>\n",
       "      <td>102</td>\n",
       "      <td>HR</td>\n",
       "      <td>Los Angeles</td>\n",
       "      <td>80000</td>\n",
       "      <td>2019-03-15</td>\n",
       "      <td>78</td>\n",
       "    </tr>\n",
       "    <tr>\n",
       "      <th>2</th>\n",
       "      <td>103</td>\n",
       "      <td>IT</td>\n",
       "      <td>Chicago</td>\n",
       "      <td>90000</td>\n",
       "      <td>2021-07-10</td>\n",
       "      <td>92</td>\n",
       "    </tr>\n",
       "    <tr>\n",
       "      <th>3</th>\n",
       "      <td>104</td>\n",
       "      <td>Sales</td>\n",
       "      <td>New York</td>\n",
       "      <td>75000</td>\n",
       "      <td>2020-11-11</td>\n",
       "      <td>88</td>\n",
       "    </tr>\n",
       "    <tr>\n",
       "      <th>4</th>\n",
       "      <td>105</td>\n",
       "      <td>IT</td>\n",
       "      <td>Chicago</td>\n",
       "      <td>85000</td>\n",
       "      <td>2018-06-23</td>\n",
       "      <td>90</td>\n",
       "    </tr>\n",
       "  </tbody>\n",
       "</table>\n",
       "</div>"
      ],
      "text/plain": [
       "   EmployeeID Department         City  Salary JoiningDate  PerformanceScore\n",
       "0         101      Sales     New York   70000  2020-05-20                85\n",
       "1         102         HR  Los Angeles   80000  2019-03-15                78\n",
       "2         103         IT      Chicago   90000  2021-07-10                92\n",
       "3         104      Sales     New York   75000  2020-11-11                88\n",
       "4         105         IT      Chicago   85000  2018-06-23                90"
      ]
     },
     "execution_count": 41,
     "metadata": {},
     "output_type": "execute_result"
    }
   ],
   "source": [
    "df.head()"
   ]
  },
  {
   "cell_type": "code",
   "execution_count": 51,
   "id": "0e64ee22-2182-499d-93ff-0dd5a9a9110b",
   "metadata": {},
   "outputs": [
    {
     "data": {
      "text/plain": [
       "Department\n",
       "HR       243000\n",
       "IT       263000\n",
       "Sales    291000\n",
       "Name: Salary, dtype: int64"
      ]
     },
     "execution_count": 51,
     "metadata": {},
     "output_type": "execute_result"
    }
   ],
   "source": [
    "df.groupby('Department')['Salary'].sum()"
   ]
  },
  {
   "cell_type": "code",
   "execution_count": 53,
   "id": "e7d37cd8-cd67-4b8c-ae64-4a3c720ceb47",
   "metadata": {},
   "outputs": [
    {
     "data": {
      "text/plain": [
       "Department\n",
       "HR       81000.000000\n",
       "IT       87666.666667\n",
       "Sales    72750.000000\n",
       "Name: Salary, dtype: float64"
      ]
     },
     "execution_count": 53,
     "metadata": {},
     "output_type": "execute_result"
    }
   ],
   "source": [
    "df.groupby('Department')['Salary'].mean()"
   ]
  },
  {
   "cell_type": "code",
   "execution_count": 55,
   "id": "970b84c2-f055-4e21-a1d4-439c61109f50",
   "metadata": {},
   "outputs": [
    {
     "data": {
      "text/plain": [
       "City\n",
       "Chicago        277\n",
       "Los Angeles    234\n",
       "New York       338\n",
       "Name: PerformanceScore, dtype: int64"
      ]
     },
     "execution_count": 55,
     "metadata": {},
     "output_type": "execute_result"
    }
   ],
   "source": [
    "df.groupby('City')['PerformanceScore'].sum()"
   ]
  },
  {
   "cell_type": "code",
   "execution_count": 57,
   "id": "ed2cae2a-0cd0-41a5-ba1e-d0ef24765f66",
   "metadata": {},
   "outputs": [
    {
     "data": {
      "text/html": [
       "<div>\n",
       "<style scoped>\n",
       "    .dataframe tbody tr th:only-of-type {\n",
       "        vertical-align: middle;\n",
       "    }\n",
       "\n",
       "    .dataframe tbody tr th {\n",
       "        vertical-align: top;\n",
       "    }\n",
       "\n",
       "    .dataframe thead th {\n",
       "        text-align: right;\n",
       "    }\n",
       "</style>\n",
       "<table border=\"1\" class=\"dataframe\">\n",
       "  <thead>\n",
       "    <tr style=\"text-align: right;\">\n",
       "      <th></th>\n",
       "      <th>Salary</th>\n",
       "    </tr>\n",
       "    <tr>\n",
       "      <th>Department</th>\n",
       "      <th></th>\n",
       "    </tr>\n",
       "  </thead>\n",
       "  <tbody>\n",
       "    <tr>\n",
       "      <th>HR</th>\n",
       "      <td>81000.000000</td>\n",
       "    </tr>\n",
       "    <tr>\n",
       "      <th>IT</th>\n",
       "      <td>87666.666667</td>\n",
       "    </tr>\n",
       "    <tr>\n",
       "      <th>Sales</th>\n",
       "      <td>72750.000000</td>\n",
       "    </tr>\n",
       "  </tbody>\n",
       "</table>\n",
       "</div>"
      ],
      "text/plain": [
       "                  Salary\n",
       "Department              \n",
       "HR          81000.000000\n",
       "IT          87666.666667\n",
       "Sales       72750.000000"
      ]
     },
     "execution_count": 57,
     "metadata": {},
     "output_type": "execute_result"
    }
   ],
   "source": [
    "df.groupby('Department').agg({'Salary' : 'mean'})"
   ]
  },
  {
   "cell_type": "code",
   "execution_count": 59,
   "id": "4a386643-bed7-4382-be4b-81336bae634f",
   "metadata": {},
   "outputs": [
    {
     "data": {
      "text/html": [
       "<div>\n",
       "<style scoped>\n",
       "    .dataframe tbody tr th:only-of-type {\n",
       "        vertical-align: middle;\n",
       "    }\n",
       "\n",
       "    .dataframe tbody tr th {\n",
       "        vertical-align: top;\n",
       "    }\n",
       "\n",
       "    .dataframe thead th {\n",
       "        text-align: right;\n",
       "    }\n",
       "</style>\n",
       "<table border=\"1\" class=\"dataframe\">\n",
       "  <thead>\n",
       "    <tr style=\"text-align: right;\">\n",
       "      <th></th>\n",
       "      <th>Salary</th>\n",
       "    </tr>\n",
       "    <tr>\n",
       "      <th>City</th>\n",
       "      <th></th>\n",
       "    </tr>\n",
       "  </thead>\n",
       "  <tbody>\n",
       "    <tr>\n",
       "      <th>Chicago</th>\n",
       "      <td>263000</td>\n",
       "    </tr>\n",
       "    <tr>\n",
       "      <th>Los Angeles</th>\n",
       "      <td>243000</td>\n",
       "    </tr>\n",
       "    <tr>\n",
       "      <th>New York</th>\n",
       "      <td>291000</td>\n",
       "    </tr>\n",
       "  </tbody>\n",
       "</table>\n",
       "</div>"
      ],
      "text/plain": [
       "             Salary\n",
       "City               \n",
       "Chicago      263000\n",
       "Los Angeles  243000\n",
       "New York     291000"
      ]
     },
     "execution_count": 59,
     "metadata": {},
     "output_type": "execute_result"
    }
   ],
   "source": [
    "df.groupby('City').agg({'Salary' : 'sum'})"
   ]
  },
  {
   "cell_type": "markdown",
   "id": "18fab1cb-67c7-423f-aa9d-38dec00f8414",
   "metadata": {},
   "source": [
    "## Window Functions Practice"
   ]
  },
  {
   "cell_type": "code",
   "execution_count": 62,
   "id": "639ed92d-a700-432a-8216-68ad478f3986",
   "metadata": {},
   "outputs": [],
   "source": [
    "import pandas as pd\n",
    "\n",
    "# Sample Data\n",
    "data = {\n",
    "    'EmployeeID': [101, 102, 103, 104, 105, 106, 107, 108, 109, 110],\n",
    "    'Department': ['Sales', 'Sales', 'IT', 'IT', 'HR', 'HR', 'Sales', 'IT', 'HR', 'Sales'],\n",
    "    'City': ['New York', 'New York', 'Chicago', 'Chicago', 'Los Angeles', 'Los Angeles', 'New York', 'Chicago', 'Los Angeles', 'New York'],\n",
    "    'Salary': [70000, 72000, 90000, 88000, 82000, 81000, 75000, 85000, 83000, 74000],\n",
    "    'JoiningDate': pd.to_datetime(['2021-01-15', '2021-03-20', '2021-05-10', '2021-07-25', '2021-09-15',\n",
    "                                    '2021-11-05', '2021-02-10', '2021-04-18', '2021-06-22', '2021-08-01']),\n",
    "    'PerformanceScore': [85, 88, 90, 92, 78, 79, 86, 87, 80, 84]\n",
    "}\n",
    "\n",
    "df = pd.DataFrame(data)"
   ]
  },
  {
   "cell_type": "code",
   "execution_count": 64,
   "id": "9bd75790-37d4-458a-bd67-67dad3b88576",
   "metadata": {},
   "outputs": [
    {
     "data": {
      "text/html": [
       "<div>\n",
       "<style scoped>\n",
       "    .dataframe tbody tr th:only-of-type {\n",
       "        vertical-align: middle;\n",
       "    }\n",
       "\n",
       "    .dataframe tbody tr th {\n",
       "        vertical-align: top;\n",
       "    }\n",
       "\n",
       "    .dataframe thead th {\n",
       "        text-align: right;\n",
       "    }\n",
       "</style>\n",
       "<table border=\"1\" class=\"dataframe\">\n",
       "  <thead>\n",
       "    <tr style=\"text-align: right;\">\n",
       "      <th></th>\n",
       "      <th>EmployeeID</th>\n",
       "      <th>Department</th>\n",
       "      <th>City</th>\n",
       "      <th>Salary</th>\n",
       "      <th>JoiningDate</th>\n",
       "      <th>PerformanceScore</th>\n",
       "    </tr>\n",
       "  </thead>\n",
       "  <tbody>\n",
       "    <tr>\n",
       "      <th>0</th>\n",
       "      <td>101</td>\n",
       "      <td>Sales</td>\n",
       "      <td>New York</td>\n",
       "      <td>70000</td>\n",
       "      <td>2021-01-15</td>\n",
       "      <td>85</td>\n",
       "    </tr>\n",
       "    <tr>\n",
       "      <th>1</th>\n",
       "      <td>102</td>\n",
       "      <td>Sales</td>\n",
       "      <td>New York</td>\n",
       "      <td>72000</td>\n",
       "      <td>2021-03-20</td>\n",
       "      <td>88</td>\n",
       "    </tr>\n",
       "    <tr>\n",
       "      <th>2</th>\n",
       "      <td>103</td>\n",
       "      <td>IT</td>\n",
       "      <td>Chicago</td>\n",
       "      <td>90000</td>\n",
       "      <td>2021-05-10</td>\n",
       "      <td>90</td>\n",
       "    </tr>\n",
       "    <tr>\n",
       "      <th>3</th>\n",
       "      <td>104</td>\n",
       "      <td>IT</td>\n",
       "      <td>Chicago</td>\n",
       "      <td>88000</td>\n",
       "      <td>2021-07-25</td>\n",
       "      <td>92</td>\n",
       "    </tr>\n",
       "    <tr>\n",
       "      <th>4</th>\n",
       "      <td>105</td>\n",
       "      <td>HR</td>\n",
       "      <td>Los Angeles</td>\n",
       "      <td>82000</td>\n",
       "      <td>2021-09-15</td>\n",
       "      <td>78</td>\n",
       "    </tr>\n",
       "  </tbody>\n",
       "</table>\n",
       "</div>"
      ],
      "text/plain": [
       "   EmployeeID Department         City  Salary JoiningDate  PerformanceScore\n",
       "0         101      Sales     New York   70000  2021-01-15                85\n",
       "1         102      Sales     New York   72000  2021-03-20                88\n",
       "2         103         IT      Chicago   90000  2021-05-10                90\n",
       "3         104         IT      Chicago   88000  2021-07-25                92\n",
       "4         105         HR  Los Angeles   82000  2021-09-15                78"
      ]
     },
     "execution_count": 64,
     "metadata": {},
     "output_type": "execute_result"
    }
   ],
   "source": [
    "df.head()"
   ]
  },
  {
   "cell_type": "code",
   "execution_count": 66,
   "id": "2f82b6fa-d270-4ae0-97da-df8500017428",
   "metadata": {},
   "outputs": [
    {
     "data": {
      "text/plain": [
       "0     70000\n",
       "1    142000\n",
       "2    232000\n",
       "3    320000\n",
       "4    402000\n",
       "5    483000\n",
       "6    558000\n",
       "7    643000\n",
       "8    726000\n",
       "9    800000\n",
       "Name: Salary, dtype: int64"
      ]
     },
     "execution_count": 66,
     "metadata": {},
     "output_type": "execute_result"
    }
   ],
   "source": [
    "df['Salary'].cumsum()"
   ]
  },
  {
   "cell_type": "code",
   "execution_count": 68,
   "id": "b96679fb-4051-4fc2-8dc3-9c033f26228c",
   "metadata": {},
   "outputs": [
    {
     "data": {
      "text/plain": [
       "0     85\n",
       "1    173\n",
       "2     90\n",
       "3    182\n",
       "4     78\n",
       "5    157\n",
       "6    259\n",
       "7    269\n",
       "8    237\n",
       "9    343\n",
       "Name: PerformanceScore, dtype: int64"
      ]
     },
     "execution_count": 68,
     "metadata": {},
     "output_type": "execute_result"
    }
   ],
   "source": [
    "df.groupby('Department')['PerformanceScore'].cumsum()"
   ]
  },
  {
   "cell_type": "code",
   "execution_count": 70,
   "id": "c5f19262-e450-459e-a729-e9d38e5babce",
   "metadata": {},
   "outputs": [
    {
     "data": {
      "text/html": [
       "<div>\n",
       "<style scoped>\n",
       "    .dataframe tbody tr th:only-of-type {\n",
       "        vertical-align: middle;\n",
       "    }\n",
       "\n",
       "    .dataframe tbody tr th {\n",
       "        vertical-align: top;\n",
       "    }\n",
       "\n",
       "    .dataframe thead th {\n",
       "        text-align: right;\n",
       "    }\n",
       "</style>\n",
       "<table border=\"1\" class=\"dataframe\">\n",
       "  <thead>\n",
       "    <tr style=\"text-align: right;\">\n",
       "      <th></th>\n",
       "      <th>EmployeeID</th>\n",
       "      <th>Department</th>\n",
       "      <th>City</th>\n",
       "      <th>Salary</th>\n",
       "      <th>JoiningDate</th>\n",
       "      <th>PerformanceScore</th>\n",
       "    </tr>\n",
       "  </thead>\n",
       "  <tbody>\n",
       "    <tr>\n",
       "      <th>0</th>\n",
       "      <td>101</td>\n",
       "      <td>Sales</td>\n",
       "      <td>New York</td>\n",
       "      <td>70000</td>\n",
       "      <td>2021-01-15</td>\n",
       "      <td>85</td>\n",
       "    </tr>\n",
       "    <tr>\n",
       "      <th>1</th>\n",
       "      <td>102</td>\n",
       "      <td>Sales</td>\n",
       "      <td>New York</td>\n",
       "      <td>72000</td>\n",
       "      <td>2021-03-20</td>\n",
       "      <td>88</td>\n",
       "    </tr>\n",
       "    <tr>\n",
       "      <th>2</th>\n",
       "      <td>103</td>\n",
       "      <td>IT</td>\n",
       "      <td>Chicago</td>\n",
       "      <td>90000</td>\n",
       "      <td>2021-05-10</td>\n",
       "      <td>90</td>\n",
       "    </tr>\n",
       "    <tr>\n",
       "      <th>3</th>\n",
       "      <td>104</td>\n",
       "      <td>IT</td>\n",
       "      <td>Chicago</td>\n",
       "      <td>88000</td>\n",
       "      <td>2021-07-25</td>\n",
       "      <td>92</td>\n",
       "    </tr>\n",
       "    <tr>\n",
       "      <th>4</th>\n",
       "      <td>105</td>\n",
       "      <td>HR</td>\n",
       "      <td>Los Angeles</td>\n",
       "      <td>82000</td>\n",
       "      <td>2021-09-15</td>\n",
       "      <td>78</td>\n",
       "    </tr>\n",
       "  </tbody>\n",
       "</table>\n",
       "</div>"
      ],
      "text/plain": [
       "   EmployeeID Department         City  Salary JoiningDate  PerformanceScore\n",
       "0         101      Sales     New York   70000  2021-01-15                85\n",
       "1         102      Sales     New York   72000  2021-03-20                88\n",
       "2         103         IT      Chicago   90000  2021-05-10                90\n",
       "3         104         IT      Chicago   88000  2021-07-25                92\n",
       "4         105         HR  Los Angeles   82000  2021-09-15                78"
      ]
     },
     "execution_count": 70,
     "metadata": {},
     "output_type": "execute_result"
    }
   ],
   "source": [
    "df.head()"
   ]
  },
  {
   "cell_type": "code",
   "execution_count": 82,
   "id": "145e1414-de9b-4b32-bae1-80932ded28d5",
   "metadata": {},
   "outputs": [
    {
     "data": {
      "text/plain": [
       "0    4.0\n",
       "1    3.0\n",
       "2    1.0\n",
       "3    2.0\n",
       "4    2.0\n",
       "5    3.0\n",
       "6    1.0\n",
       "7    3.0\n",
       "8    1.0\n",
       "9    2.0\n",
       "Name: Salary, dtype: float64"
      ]
     },
     "execution_count": 82,
     "metadata": {},
     "output_type": "execute_result"
    }
   ],
   "source": [
    "# Ranking salaries within departments:\n",
    "\n",
    "df.groupby('Department')['Salary'].rank(ascending = False, method = 'dense')"
   ]
  },
  {
   "cell_type": "code",
   "execution_count": 106,
   "id": "08472cfd-d1e2-45b7-9d76-10f37650dc57",
   "metadata": {},
   "outputs": [
    {
     "data": {
      "text/plain": [
       "0    1\n",
       "1    2\n",
       "2    1\n",
       "3    2\n",
       "4    1\n",
       "5    2\n",
       "6    3\n",
       "7    3\n",
       "8    3\n",
       "9    4\n",
       "dtype: int64"
      ]
     },
     "execution_count": 106,
     "metadata": {},
     "output_type": "execute_result"
    }
   ],
   "source": [
    "# Row number for employees in each department:\n",
    "\n",
    "df.groupby('Department')['EmployeeID'].cumcount() + 1"
   ]
  },
  {
   "cell_type": "code",
   "execution_count": 124,
   "id": "ebbc32ac-753e-4baa-882e-49a2a060bb69",
   "metadata": {},
   "outputs": [
    {
     "data": {
      "text/plain": [
       "0    1.0\n",
       "1    2.0\n",
       "2    1.0\n",
       "3    2.0\n",
       "4    1.0\n",
       "5    2.0\n",
       "6    3.0\n",
       "7    3.0\n",
       "8    3.0\n",
       "9    4.0\n",
       "Name: EmployeeID, dtype: float64"
      ]
     },
     "execution_count": 124,
     "metadata": {},
     "output_type": "execute_result"
    }
   ],
   "source": [
    "df.groupby('Department')['EmployeeID'].rank(method = 'min')"
   ]
  },
  {
   "cell_type": "code",
   "execution_count": null,
   "id": "0df99c81-e26b-4e12-9a87-02a8b97ba79a",
   "metadata": {},
   "outputs": [],
   "source": []
  }
 ],
 "metadata": {
  "kernelspec": {
   "display_name": "Python 3 (ipykernel)",
   "language": "python",
   "name": "python3"
  },
  "language_info": {
   "codemirror_mode": {
    "name": "ipython",
    "version": 3
   },
   "file_extension": ".py",
   "mimetype": "text/x-python",
   "name": "python",
   "nbconvert_exporter": "python",
   "pygments_lexer": "ipython3",
   "version": "3.12.4"
  }
 },
 "nbformat": 4,
 "nbformat_minor": 5
}
